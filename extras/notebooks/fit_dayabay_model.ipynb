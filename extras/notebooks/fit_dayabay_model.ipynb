{
 "cells": [
  {
   "cell_type": "markdown",
   "metadata": {},
   "source": [
    "# Daya Bay model in Jupyter notebook\n",
    "\n",
    "## Preparation\n",
    "\n",
    "Make sure that you run notebook in the same directory where you have `./data` for model.\n"
   ]
  },
  {
   "cell_type": "code",
   "execution_count": null,
   "metadata": {},
   "outputs": [],
   "source": [
    "%matplotlib"
   ]
  },
  {
   "cell_type": "code",
   "execution_count": null,
   "metadata": {},
   "outputs": [],
   "source": [
    "from dag_modelling.tools.logger import DEBUG as INFO4\n",
    "from dag_modelling.tools.logger import INFO1, INFO2, INFO3, set_level\n",
    "\n",
    "from dgm_dayabay_dev.models import load_model\n",
    "from dgm_fit.iminuit_minimizer import IMinuitMinimizer\n",
    "\n",
    "\n",
    "\n",
    "set_level(INFO1)"
   ]
  },
  {
   "cell_type": "markdown",
   "metadata": {},
   "source": [
    "## Model parameters\n",
    "\n",
    "`MODEL_*` variables describe possible parameters of the loaded model. To get more info about parameters, just check documentation of `load_model`.\n",
    "\n",
    "## Next sample\n",
    "\n",
    "Method `next_sample()` is called to generate a new sample of pseudo data."
   ]
  },
  {
   "cell_type": "code",
   "execution_count": null,
   "metadata": {
    "scrolled": true
   },
   "outputs": [],
   "source": [
    "MODEL_VERSION = \"v0e\"\n",
    "MODEL_SOURCE_TYPE = \"npz\"\n",
    "MODEL_ANUE_SPEC = \"exponential\"\n",
    "MODEL_SEED = 0\n",
    "MODEL_MC_DATA = \"asimov\"\n",
    "CONCATENATION_MODE = \"detector\"\n",
    "\n",
    "model = load_model(\n",
    "    MODEL_VERSION,\n",
    "    source_type=MODEL_SOURCE_TYPE,\n",
    "    spectrum_correction_interpolation_mode=MODEL_ANUE_SPEC,\n",
    "    monte_carlo_mode=MODEL_MC_DATA,\n",
    "    seed=MODEL_SEED,\n",
    "    concatenation_mode=CONCATENATION_MODE,\n",
    ")\n",
    "\n",
    "model.next_sample()\n",
    "\n",
    "storage = model.storage\n",
    "parameters_free = storage(\"parameters.free\")\n",
    "parameters_constrained = storage(\"parameters.constrained\")\n",
    "statistic = storage(\"outputs.statistic\")"
   ]
  },
  {
   "cell_type": "code",
   "execution_count": null,
   "metadata": {},
   "outputs": [],
   "source": [
    "chi2_type = \"stat.chi2p\"\n",
    "\n",
    "parameters_oscprob = dict(parameters_constrained[\"oscprob\"].walkjoineditems())\n",
    "parameters_oscprob.update(dict(parameters_free(\"oscprob\").walkjoineditems()))\n",
    "parameters_oscprob_gn = parameters_oscprob.copy()\n",
    "parameters_oscprob_gn.update(dict(parameters_free(\"detector\").walkjoineditems()))\n",
    "parameters_oscprob_spec = parameters_oscprob.copy()\n",
    "parameters_oscprob_spec.update(dict(parameters_free(\"neutrino_per_fission_factor\").walkjoineditems()))"
   ]
  },
  {
   "cell_type": "code",
   "execution_count": null,
   "metadata": {},
   "outputs": [],
   "source": [
    "chi2 = statistic[chi2_type]\n",
    "\n",
    "minimizer_gn = IMinuitMinimizer(chi2, parameters=parameters_oscprob_gn)\n",
    "minimizer_spec = IMinuitMinimizer(chi2, parameters=parameters_oscprob_spec)"
   ]
  },
  {
   "cell_type": "code",
   "execution_count": null,
   "metadata": {},
   "outputs": [],
   "source": [
    "minimizer_gn.push_initial_values()\n",
    "minimizer_gn.fit()"
   ]
  },
  {
   "cell_type": "code",
   "execution_count": null,
   "metadata": {
    "scrolled": true
   },
   "outputs": [],
   "source": [
    "minimizer_spec.push_initial_values()\n",
    "minimizer_spec.fit()"
   ]
  },
  {
   "cell_type": "code",
   "execution_count": null,
   "metadata": {},
   "outputs": [],
   "source": [
    "import numpy as np\n",
    "from matplotlib import pyplot as plt\n",
    "\n",
    "def visualization(args):\n",
    "    plt.plot(model.storage.get_value(\"outputs.eventscount.final.concatenated.selected\").data, label=\"Model\")\n",
    "    data = model.storage.get_value(\"outputs.data.pseudo.self\").data\n",
    "    x = np.arange(data.shape[0])\n",
    "    plt.errorbar(x=x, y=data, xerr=0.5, yerr=data**.5, label=\"DATA\", linestyle=\"none\")\n",
    "    plt.legend()\n",
    "\n",
    "minimizer_gn._minimizer.interactive(plot=visualization)"
   ]
  },
  {
   "cell_type": "code",
   "execution_count": null,
   "metadata": {},
   "outputs": [],
   "source": [
    "minimizer_spec._minimizer.interactive(plot=visualization)"
   ]
  },
  {
   "cell_type": "code",
   "execution_count": null,
   "metadata": {},
   "outputs": [],
   "source": []
  }
 ],
 "metadata": {
  "kernelspec": {
   "display_name": "Python 3 (ipykernel)",
   "language": "python",
   "name": "python3"
  },
  "language_info": {
   "codemirror_mode": {
    "name": "ipython",
    "version": 3
   },
   "file_extension": ".py",
   "mimetype": "text/x-python",
   "name": "python",
   "nbconvert_exporter": "python",
   "pygments_lexer": "ipython3",
   "version": "3.12.3"
  }
 },
 "nbformat": 4,
 "nbformat_minor": 4
}
